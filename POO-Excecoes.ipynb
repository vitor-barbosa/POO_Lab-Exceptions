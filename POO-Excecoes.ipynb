{
 "cells": [
  {
   "cell_type": "code",
   "execution_count": 1,
   "metadata": {
    "dotnet_interactive": {
     "language": "csharp"
    },
    "polyglot_notebook": {
     "kernelName": "csharp"
    }
   },
   "outputs": [],
   "source": [
    "// Sempre que precisamos de fazer Console.ReadLine num jupiter notebook precisamos de correr esta célula uma vez.\n",
    "// Não apagues pois podemos vir a precisar dela.\n",
    "static class Console {\n",
    "    public static void WriteLine(object o) => System.Console.WriteLine(o);\n",
    "    public static void WriteLine(bool b) => System.Console.WriteLine(b);\n",
    "    public static void WriteLine(string text) => System.Console.WriteLine(text);\n",
    "    public static void WriteLine(int n) => System.Console.WriteLine(n);\n",
    "    public static string ReadLine() => GetInputAsync(\"\").GetAwaiter().GetResult();\n",
    "}"
   ]
  },
  {
   "cell_type": "markdown",
   "metadata": {},
   "source": [
    "# Exceções e Tratamento de Exceções"
   ]
  },
  {
   "cell_type": "markdown",
   "metadata": {},
   "source": [
    "O tratamento de exceções da linguagem C# ajuda a lidar com situações inesperadas ou excecionais que ocorram durante a execução de um programa.  \n",
    "\n",
    "O tratamento de exceções utiliza as palavras-chave try, catch e finally para tentar ações que podem não ter sucesso (ocorrer alguma situação de erro/anómalia), para lidar com falhas quando se decide que é útil fazê-lo e para, eventualmente, limpar recursos posteriormente.  \n",
    "\n",
    "As exceções podem ser geradas pelo common language runtime (CLR), por bibliotecas .NET ou de terceiros, ou por código da aplicação. As exceções são criadas/lançadas usando a palavra-chave throw.   \n",
    "\n",
    "Em muitos casos, uma exceção pode ser lançada não por um método que seu código utilizou diretamente, mas por outro método mais abaixo na pilha de chamadas. Quando uma exceção é lançada, será procurado um método com um bloco catch para o tipo de exceção específico na pilha, e executará o primeiro bloco catch desse tipo que encontrar. Se não encontrar nenhum bloco catch apropriado em qualquer lugar na pilha de chamadas, ele encerrará o processo e exibirá uma mensagem para o utilizador.\n",
    "\n",
    "No exemplo seguinte, um método verifica a divisão por zero e captura o erro. Sem o tratamento de exceções, este programa terminaria com um erro \"DivideByZeroException was unhandled\"."
   ]
  },
  {
   "cell_type": "markdown",
   "metadata": {},
   "source": []
  },
  {
   "cell_type": "code",
   "execution_count": 21,
   "metadata": {
    "dotnet_interactive": {
     "language": "csharp"
    },
    "polyglot_notebook": {
     "kernelName": "csharp"
    }
   },
   "outputs": [],
   "source": [
    "// Função que lança uma exceção \"DivideByZeroException\"\n",
    "double SafeDivision(double x, double y)\n",
    "    {\n",
    "        if (y == 0)\n",
    "            throw new DivideByZeroException(\"SafeDivision:Tentou dividir por zero\");\n",
    "        return x / y;\n",
    "    }"
   ]
  },
  {
   "cell_type": "code",
   "execution_count": 22,
   "metadata": {
    "dotnet_interactive": {
     "language": "csharp"
    },
    "polyglot_notebook": {
     "kernelName": "csharp"
    }
   },
   "outputs": [
    {
     "name": "stdout",
     "output_type": "stream",
     "text": [
      "98 divided by 0 = ∞\r\n"
     ]
    }
   ],
   "source": [
    "//Teste à função anterior com os blocos try e catch\n",
    "\n",
    "// Será gerada e \"apanhada\" a exceção se b for 0.\n",
    "double a = 98, b = 0;\n",
    "double result;\n",
    "\n",
    "try\n",
    "{\n",
    "    result = SafeDivision(a, b);\n",
    "    Console.WriteLine(\"{0} divided by {1} = {2}\", a, b, result);\n",
    "}\n",
    "catch (DivideByZeroException ex)\n",
    "{\n",
    "    Console.WriteLine(\"Attempted divide by zero.\");\n",
    "    Console.WriteLine(ex.Message);\n",
    "}"
   ]
  },
  {
   "cell_type": "markdown",
   "metadata": {},
   "source": [
    "Quando utilizado o bloco \"try\", o \"catch\" é obrigatório. \n",
    "O código seguinte gera um erro:"
   ]
  },
  {
   "cell_type": "code",
   "execution_count": 4,
   "metadata": {
    "dotnet_interactive": {
     "language": "csharp"
    },
    "polyglot_notebook": {
     "kernelName": "csharp"
    }
   },
   "outputs": [
    {
     "ename": "Error",
     "evalue": "(11,1): error CS1524: Expected catch or finally",
     "output_type": "error",
     "traceback": [
      "(11,1): error CS1524: Expected catch or finally"
     ]
    }
   ],
   "source": [
    "//Teste à função anterior com os blocos try apenas #### ERRO ####\n",
    "\n",
    "// Será gerada e \"apanhada\" a exceção se b for 0.\n",
    "double a = 98, b = 0;\n",
    "double result;\n",
    "\n",
    "try\n",
    "{\n",
    "    result = SafeDivision(a, b);\n",
    "    Console.WriteLine(\"{0} divided by {1} = {2}\", a, b, result);\n",
    "}\n"
   ]
  },
  {
   "cell_type": "markdown",
   "metadata": {},
   "source": [
    "Se não for usado o bloco \"try\", com o respetivo \"catch\", caso seja gerada uma exceção, ocorre um erro:"
   ]
  },
  {
   "cell_type": "code",
   "execution_count": 10,
   "metadata": {
    "dotnet_interactive": {
     "language": "csharp"
    },
    "polyglot_notebook": {
     "kernelName": "csharp"
    }
   },
   "outputs": [
    {
     "ename": "Error",
     "evalue": "System.DivideByZeroException: SafeDivision:Tentou dividir por zero\r\n   at Submission#8.SafeDivision(Double x, Double y)\r\n   at Submission#10.<<Initialize>>d__0.MoveNext()\r\n--- End of stack trace from previous location ---\r\n   at Microsoft.CodeAnalysis.Scripting.ScriptExecutionState.RunSubmissionsAsync[TResult](ImmutableArray`1 precedingExecutors, Func`2 currentExecutor, StrongBox`1 exceptionHolderOpt, Func`2 catchExceptionOpt, CancellationToken cancellationToken)",
     "output_type": "error",
     "traceback": [
      "System.DivideByZeroException: SafeDivision:Tentou dividir por zero\r\n",
      "   at Submission#8.SafeDivision(Double x, Double y)\r\n",
      "   at Submission#10.<<Initialize>>d__0.MoveNext()\r\n",
      "--- End of stack trace from previous location ---\r\n",
      "   at Microsoft.CodeAnalysis.Scripting.ScriptExecutionState.RunSubmissionsAsync[TResult](ImmutableArray`1 precedingExecutors, Func`2 currentExecutor, StrongBox`1 exceptionHolderOpt, Func`2 catchExceptionOpt, CancellationToken cancellationToken)"
     ]
    }
   ],
   "source": [
    "//Teste à função anterior sem tratamento de exceções\n",
    "\n",
    "// Será gerada e \"apanhada\" a exceção se b for 0.\n",
    "double a = 98, b = 0;\n",
    "double result;\n",
    "\n",
    "    result = SafeDivision(a, b);\n",
    "    Console.WriteLine(\"{0} divided by {1} = {2}\", a, b, result);\n"
   ]
  },
  {
   "cell_type": "markdown",
   "metadata": {},
   "source": [
    "Sobre exceções:\n",
    "\n",
    "- As exceções são tipos que, em última análise, derivam de `System.Exception`.\n",
    "- Use um bloco `try` em torno das instruções que podem lançar exceções.\n",
    "- Quando uma exceção ocorre no bloco `try`, o fluxo de controlo salta para o primeiro _handler_ de exceções associado que está presente na pilha de chamadas. Em C#, a palavra-chave `catch` é usada para definir um _handler_ de exceções.\n",
    "- Se não houver nenhum _handler_ de exceções para uma determinada exceção, o programa para de executar com uma mensagem de erro.\n",
    "- Não de deve capturar uma exceção a menos que a possa tratar e deixar o progrma num estado conhecido (válido). Se capturar um exceção do tipo `System.Exception`, relance-a usando a palavra-chave `throw` no final do bloco `catch`.   \n",
    "- Se um bloco `catch` definir uma variável de exceção,  pode usar a variável para obter mais informações sobre o tipo de exceção que ocorreu.\n",
    "- As exceções podem ser geradas explicitamente por um programa usando a palavra-chave `throw`.   \n",
    "- Os objetos de exceção contêm informações detalhadas sobre o erro, como o estado da pilha de chamadas e uma descrição textual do erro.\n",
    "- O código num bloco `finally` é executado independentemente de uma exceção ser lançada. O bloco `finally` permite libertar recursos, por exemplo, para fechar quaisquer fluxos ou ficheiros que foram abertos no bloco `try`. "
   ]
  },
  {
   "cell_type": "markdown",
   "metadata": {},
   "source": [
    "Tipos de Exceções existentes:\n",
    "\n",
    "|Exception|Description|\n",
    "|---------------|-----------------|\n",
    "|`System.ArithmeticException`| Uma classe base para exceções que ocorrem durante operações aritméticas, como `System.DivideByZeroException` e `System.OverflowException`.|\n",
    "|`System.ArrayTypeMismatchException`|Lançada quando um array não pode armazenar um determinado elemento porque o tipo do elemento é incompatível com o tipo do array.|\n",
    "|`System.DivideByZeroException`|Lançada quando é feita uma tentativa de dividir um valor por zero.|\n",
    "|`System.IndexOutOfRangeException`|Lançada quando é feita uma tentativa de indexar um array com o índice inferior a zero ou fora dos limites do array.|\n",
    "|`System.InvalidCastException`|Lançada quando uma conversão explícita de um tipo base para uma interface ou para um tipo derivado falha em tempo de execução.|\n",
    "|`System.NullReferenceException`|Lançada quando é feita uma tentativa de referenciar um objeto cujo valor é `null`.|\n",
    "|`System.OutOfMemoryException`|Lançada quando é feita uma tentativa de alocação de memória usando o operador `new` falha. Esta exceção indica que se esgotou a memória disponível para o Common Language Runtime.|\n",
    "|`System.OverflowException`|Lançada quando uma operação aritmética \"transborda\" (por exemplo, armazenar um valor \"maior\" do que a capacidade de uma variável).|\n",
    "|`System.StackOverflowException`|Lançada quando a pilha de execução está esgotada por ter muitas chamadas de métodos pendentes; indica geralmente uma recursão muito profunda ou infinita.|\n",
    "|`System.TypeInitializationException`|Lançada quando um construtor estático lança uma exceção e não existe nenhuma cláusula `catch` compatível para a capturar.|"
   ]
  },
  {
   "cell_type": "markdown",
   "metadata": {},
   "source": [
    "Podemos ter vários blocos `catch`, sendo que os primeiros devem tratar as exceções mais específicas."
   ]
  },
  {
   "cell_type": "code",
   "execution_count": 16,
   "metadata": {
    "dotnet_interactive": {
     "language": "csharp"
    },
    "polyglot_notebook": {
     "kernelName": "csharp"
    }
   },
   "outputs": [
    {
     "name": "stdout",
     "output_type": "stream",
     "text": [
      "IO #######System.IO.DirectoryNotFoundException: Could not find a part of the path 'c:\\Users\\vitor.barbosa\\OneDrive - Instituto Politécnico de Setúbal\\ESCE\\POO\\3-Aulas Práticas\\LAB6-Classes\\PastaTeste\\test.txt'.\n",
      "   at Microsoft.Win32.SafeHandles.SafeFileHandle.CreateFile(String fullPath, FileMode mode, FileAccess access, FileShare share, FileOptions options)\n",
      "   at Microsoft.Win32.SafeHandles.SafeFileHandle.Open(String fullPath, FileMode mode, FileAccess access, FileShare share, FileOptions options, Int64 preallocationSize, Nullable`1 unixCreateMode)\n",
      "   at System.IO.Strategies.OSFileStreamStrategy..ctor(String path, FileMode mode, FileAccess access, FileShare share, FileOptions options, Int64 preallocationSize, Nullable`1 unixCreateMode)\n",
      "   at System.IO.Strategies.FileStreamHelpers.ChooseStrategyCore(String path, FileMode mode, FileAccess access, FileShare share, FileOptions options, Int64 preallocationSize, Nullable`1 unixCreateMode)\n",
      "   at System.IO.StreamWriter.ValidateArgsAndOpenPath(String path, Boolean append, Encoding encoding, Int32 bufferSize)\n",
      "   at System.IO.StreamWriter..ctor(String path)\n",
      "   at Submission#16.<<Initialize>>d__0.MoveNext()\n",
      "Done\n"
     ]
    }
   ],
   "source": [
    "            using System.IO;\n",
    "            try\n",
    "            {\n",
    "                using (var sw = new StreamWriter(\"./PastaTeste/test.txt\"))\n",
    "                {\n",
    "                    sw.WriteLine(\"Hello\");\n",
    "                }\n",
    "            }\n",
    "            // Coloque primeiro as exceções mais específicas.\n",
    "            catch (DirectoryNotFoundException ex)\n",
    "            {\n",
    "                Console.WriteLine(\"DirNotFound#####\" + ex.Message);\n",
    "            }\n",
    "            catch (FileNotFoundException ex)\n",
    "            {\n",
    "                Console.WriteLine(ex.Message);\n",
    "            }\n",
    "            catch (IOException ex)\n",
    "            {\n",
    "                Console.WriteLine(ex.Message);\n",
    "            }\n",
    "            // Coloque a exceção menos específica em último lugar.\n",
    "            \n",
    "            Console.WriteLine(\"Done\");"
   ]
  },
  {
   "cell_type": "code",
   "execution_count": 20,
   "metadata": {
    "dotnet_interactive": {
     "language": "csharp"
    },
    "polyglot_notebook": {
     "kernelName": "csharp"
    }
   },
   "outputs": [
    {
     "name": "stdout",
     "output_type": "stream",
     "text": [
      "Erro:Could not find a part of the path 'c:\\Users\\vitor.barbosa\\OneDrive - Instituto Politécnico de Setúbal\\ESCE\\POO\\3-Aulas Práticas\\LAB6-Classes\\PastaTeste\\file2.txt'.\n",
      "Vai fechar o ficheiro, se aberto\n"
     ]
    }
   ],
   "source": [
    "using System.IO;\n",
    "\n",
    "FileStream? file = null;\n",
    "FileInfo fileinfo = new System.IO.FileInfo(\"./PastaTeste/file2.txt\");\n",
    "try\n",
    "{\n",
    "    file = fileinfo.OpenWrite();\n",
    "    file.WriteByte(0xF);\n",
    "}\n",
    "catch(IOException var1)\n",
    "{\n",
    "    Console.WriteLine(\"Erro:\"+ var1.Message);\n",
    "}\n",
    "finally\n",
    "{\n",
    "    Console.WriteLine(\"Vai fechar o ficheiro, se aberto\");\n",
    "    // Check for null because OpenWrite might have failed.\n",
    "    file?.Close();\n",
    "}"
   ]
  },
  {
   "cell_type": "markdown",
   "metadata": {},
   "source": [
    "### Exercício 1\n",
    "\n",
    "Crie um programa que pede dois números ao utilizador e os guarda em variáveis `double`.\n",
    "Proteja a execução do código, capturando eventuais exceções do tipo `FormatException`. Se for apanhada/cpaturada uma exceção, deve ser mostrada a sua mensagem."
   ]
  },
  {
   "cell_type": "code",
   "execution_count": null,
   "metadata": {
    "dotnet_interactive": {
     "language": "csharp"
    },
    "polyglot_notebook": {
     "kernelName": "csharp"
    }
   },
   "outputs": [
    {
     "name": "stdout",
     "output_type": "stream",
     "text": [
      "Input the first number: \n",
      "Input the second number: \n",
      "Result: ∞\n"
     ]
    }
   ],
   "source": [
    "Resposta\n",
    "\n",
    "\n",
    "Resposta nova"
   ]
  },
  {
   "cell_type": "markdown",
   "metadata": {},
   "source": [
    "### Exercício 2\n",
    "\n",
    "Melhore o tratamento de Exceções da aplicação anterior, capturando, adicionalmente, qualquer tipo de Exceção. "
   ]
  },
  {
   "cell_type": "code",
   "execution_count": null,
   "metadata": {
    "dotnet_interactive": {
     "language": "csharp"
    },
    "polyglot_notebook": {
     "kernelName": "csharp"
    }
   },
   "outputs": [],
   "source": [
    "// Ex2:"
   ]
  },
  {
   "cell_type": "markdown",
   "metadata": {},
   "source": [
    "### Exercício 3\n",
    "\n",
    "- Adicione ao programa uma função que permite fazer a divisão de dois números. Essa função deve verificar se o denominador é zero e, caso aconteça, lançar uma exceção do tipo `DivideByZeroException` com a mensagem \"Tentativa de fazer um divisão por 0\".  \n",
    "- Utilize a função criada para, após a leitura dos números, fazer a divisão.  \n",
    "- Adicione uma nova \"captura\" para o tipo de Exceção que a função pode lançar."
   ]
  },
  {
   "cell_type": "code",
   "execution_count": null,
   "metadata": {
    "dotnet_interactive": {
     "language": "csharp"
    },
    "polyglot_notebook": {
     "kernelName": "csharp"
    }
   },
   "outputs": [],
   "source": [
    "//Ex3:\n"
   ]
  },
  {
   "cell_type": "markdown",
   "metadata": {},
   "source": [
    "### Exercício 4\n",
    "\n",
    "Crie outro programa que pede novamente um número interiro ao utilizador e o guarda numa variável do tipo adequado.  \n",
    "- Proteja o codigo de modo a capturar exceções do tipo `FormatException` e gerais (do tipo `Exception`);  \n",
    "- Crie uma exceção personalizada com o nome `NegativeNumberException`;  \n",
    "- Crie uma função `ValidatePositiveNumber` que recebendo um número inteiro como parâmetro, retorna `true` se o valor for positivo e lança uma exceção personalizada `NegativeNumberException` com a mensagem \"Números negativos não são permitidos\";  \n",
    "- Altere código para que a nova exceção seja capturada e a mensagem seja mostrada ao utilizador.  "
   ]
  },
  {
   "cell_type": "code",
   "execution_count": null,
   "metadata": {
    "dotnet_interactive": {
     "language": "csharp"
    },
    "polyglot_notebook": {
     "kernelName": "csharp"
    }
   },
   "outputs": [],
   "source": [
    "//Ex4:"
   ]
  },
  {
   "cell_type": "markdown",
   "metadata": {},
   "source": [
    "### Exercício 5\n",
    "\n",
    "Implemente uma função que calcula o fatorial de um número. A função deve ter a assinatura `int Fatorial(int valor)`. [Como calcular?](https://factorialhr.pt/numero-funcional-factorial)\n",
    "\n",
    "- Crie um programa que solicita um valor inteiro ao utilizador e aplica a função para calcular o fatorial deve número.  \n",
    "- Teste o programa escrevendo um valor não númerico;  \n",
    "- Teste o programa com o valor 10;  \n",
    "- Teste o programa com o valor 15;  \n",
    "- Qual o valor máximo em que se obtém um resultado?  \n",
    "- Verifique a capacidade do Int32 para perceber (propriedade MaxValue).  \n",
    "\n",
    "Que erros ocorreram? Proteja o código de modo a capturar exceções do tipo `FormatException`, `OverflowException` e `Exception`.\n",
    "\n"
   ]
  },
  {
   "cell_type": "code",
   "execution_count": 25,
   "metadata": {
    "dotnet_interactive": {
     "language": "csharp"
    },
    "polyglot_notebook": {
     "kernelName": "csharp"
    }
   },
   "outputs": [
    {
     "name": "stdout",
     "output_type": "stream",
     "text": [
      "Input a positive number (integer): \n",
      "Error: Factorial exceeds the maximum value of Int32.\n"
     ]
    }
   ],
   "source": [
    "    try {\n",
    "      // Ask the user to input a positive number\n",
    "      Console.WriteLine(\"Input a positive number (integer): \");\n",
    "      int number = Convert.ToInt32(Console.ReadLine());\n",
    "\n",
    "      // Calculate factorial of the entered number\n",
    "      int factorial = CalculateFactorial(number);\n",
    "\n",
    "      // Display the calculated factorial\n",
    "      Console.WriteLine(\"Factorial: \" + factorial);\n",
    "    } catch (OverflowException) {\n",
    "      // Catch block for handling OverflowException (if the factorial exceeds Int32.MaxValue)\n",
    "      Console.WriteLine(\"Error: Factorial exceeds the maximum value of Int32.\");\n",
    "    } catch (FormatException) {\n",
    "      // Catch block for handling FormatException (invalid input format)\n",
    "      Console.WriteLine(\"Error: Invalid input. Please enter a valid number.\");\n",
    "    } catch (Exception ex) {\n",
    "      // Catch block for handling other types of exceptions\n",
    "      Console.WriteLine(\"An error occurred: \" + ex.Message);\n",
    "    }\n",
    "\n",
    "\n",
    "  // Method to calculate the factorial of a number\n",
    "  static int CalculateFactorial(int number) {\n",
    "    // Check if the input number is negative\n",
    "    if (number < 0) {\n",
    "      // Throw an ArgumentException for negative input numbers\n",
    "      throw new ArgumentException(\"Number must be non-negative.\");\n",
    "    }\n",
    "\n",
    "    // Initialize the factorial as 1\n",
    "    int factorial = 1;\n",
    "\n",
    "    // Loop to calculate the factorial\n",
    "    for (int i = 1; i <= number; i++) {\n",
    "      checked {\n",
    "        // Multiply the current value of factorial with the loop variable (i)\n",
    "        factorial *= i; // The checked keyword checks for overflow and throws an OverflowException if detected\n",
    "      }\n",
    "    }\n",
    "\n",
    "    // Return the calculated factorial value\n",
    "    return factorial;\n",
    "  }"
   ]
  },
  {
   "cell_type": "code",
   "execution_count": 15,
   "metadata": {
    "dotnet_interactive": {
     "language": "csharp"
    },
    "polyglot_notebook": {
     "kernelName": "csharp"
    }
   },
   "outputs": [
    {
     "ename": "Error",
     "evalue": "System.NullReferenceException: Object reference not set to an instance of an object.\r\n   at Submission#15.<<Initialize>>d__0.MoveNext()\r\n--- End of stack trace from previous location ---\r\n   at Microsoft.CodeAnalysis.Scripting.ScriptExecutionState.RunSubmissionsAsync[TResult](ImmutableArray`1 precedingExecutors, Func`2 currentExecutor, StrongBox`1 exceptionHolderOpt, Func`2 catchExceptionOpt, CancellationToken cancellationToken)",
     "output_type": "error",
     "traceback": [
      "System.NullReferenceException: Object reference not set to an instance of an object.\r\n",
      "   at Submission#15.<<Initialize>>d__0.MoveNext()\r\n",
      "--- End of stack trace from previous location ---\r\n",
      "   at Microsoft.CodeAnalysis.Scripting.ScriptExecutionState.RunSubmissionsAsync[TResult](ImmutableArray`1 precedingExecutors, Func`2 currentExecutor, StrongBox`1 exceptionHolderOpt, Func`2 catchExceptionOpt, CancellationToken cancellationToken)"
     ]
    }
   ],
   "source": [
    "public class City{\n",
    "    public String Name {get;set;}\n",
    "}\n",
    "\n",
    "List<int> cities;\n",
    "\n",
    "foreach (var city in cities)\n",
    "\t\t{\n",
    "\t\t\tConsole.WriteLine(city);\n",
    "\t\t}"
   ]
  },
  {
   "cell_type": "code",
   "execution_count": 22,
   "metadata": {
    "dotnet_interactive": {
     "language": "csharp"
    },
    "polyglot_notebook": {
     "kernelName": "csharp"
    }
   },
   "outputs": [
    {
     "data": {
      "text/html": [
       "<div class=\"dni-plaintext\"><pre>2147483647</pre></div><style>\r\n",
       ".dni-code-hint {\r\n",
       "    font-style: italic;\r\n",
       "    overflow: hidden;\r\n",
       "    white-space: nowrap;\r\n",
       "}\r\n",
       ".dni-treeview {\r\n",
       "    white-space: nowrap;\r\n",
       "}\r\n",
       ".dni-treeview td {\r\n",
       "    vertical-align: top;\r\n",
       "    text-align: start;\r\n",
       "}\r\n",
       "details.dni-treeview {\r\n",
       "    padding-left: 1em;\r\n",
       "}\r\n",
       "table td {\r\n",
       "    text-align: start;\r\n",
       "}\r\n",
       "table tr { \r\n",
       "    vertical-align: top; \r\n",
       "    margin: 0em 0px;\r\n",
       "}\r\n",
       "table tr td pre \r\n",
       "{ \r\n",
       "    vertical-align: top !important; \r\n",
       "    margin: 0em 0px !important;\r\n",
       "} \r\n",
       "table th {\r\n",
       "    text-align: start;\r\n",
       "}\r\n",
       "</style>"
      ]
     },
     "metadata": {},
     "output_type": "display_data"
    }
   ],
   "source": [
    "Int32.MaxValue"
   ]
  }
 ],
 "metadata": {
  "kernelspec": {
   "display_name": ".NET (C#)",
   "language": "C#",
   "name": ".net-csharp"
  },
  "language_info": {
   "name": "polyglot-notebook"
  },
  "polyglot_notebook": {
   "kernelInfo": {
    "defaultKernelName": "csharp",
    "items": [
     {
      "aliases": [],
      "languageName": "csharp",
      "name": "csharp"
     }
    ]
   }
  }
 },
 "nbformat": 4,
 "nbformat_minor": 2
}
